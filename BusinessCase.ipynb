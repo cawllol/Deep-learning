{
  "nbformat": 4,
  "nbformat_minor": 0,
  "metadata": {
    "colab": {
      "name": "BusinessCase.ipynb",
      "provenance": [],
      "collapsed_sections": [],
      "authorship_tag": "ABX9TyP63LQ1toEG2G0tcDvyC1Cl",
      "include_colab_link": true
    },
    "kernelspec": {
      "name": "python3",
      "display_name": "Python 3"
    },
    "accelerator": "GPU"
  },
  "cells": [
    {
      "cell_type": "markdown",
      "metadata": {
        "id": "view-in-github",
        "colab_type": "text"
      },
      "source": [
        "<a href=\"https://colab.research.google.com/github/cawllol/Deep-learning/blob/master/BusinessCase.ipynb\" target=\"_parent\"><img src=\"https://colab.research.google.com/assets/colab-badge.svg\" alt=\"Open In Colab\"/></a>"
      ]
    },
    {
      "cell_type": "code",
      "metadata": {
        "id": "T2_E9WSJ5WaJ",
        "colab_type": "code",
        "colab": {}
      },
      "source": [
        "#Exploring the data set and identifying predictors\n",
        "#we can use this same preprocess any data set to pre process for two classes\n",
        "#importing libraries\n",
        "import numpy as np\n",
        "import tensorflow as tf\n",
        "from sklearn import preprocessing"
      ],
      "execution_count": 0,
      "outputs": []
    },
    {
      "cell_type": "code",
      "metadata": {
        "id": "cX-4sT3vyrX-",
        "colab_type": "code",
        "colab": {}
      },
      "source": [
        "raw_csv_data=np.loadtxt('/content/original (2).csv',delimiter=',')\n",
        "unscaled_inputs_all=raw_csv_data[:,1:-1]\n",
        "targets_all=raw_csv_data[:,-1]"
      ],
      "execution_count": 0,
      "outputs": []
    },
    {
      "cell_type": "code",
      "metadata": {
        "id": "7pFL7R2FzhEp",
        "colab_type": "code",
        "colab": {}
      },
      "source": [
        "#banlance the dataset\n",
        "#if we sum all targets we will get the number of targets that are 1s\n",
        "num_one_targets=int(np.sum(targets_all))\n",
        "zero_targets_counter=0\n",
        "indices_to_remove=[]\n",
        "for i in range(targets_all.shape[0]):#length of vector\n",
        "  if targets_all[i]==0:\n",
        "    zero_targets_counter +=1\n",
        "    if zero_targets_counter>num_one_targets:\n",
        "      indices_to_remove.append(i)\n",
        "''' if the target at position is 0 and the number of zeroes is bigger than \n",
        " the number of 1s,we want to take note of that index'''\n",
        "unscaled_inputs_equal_priors=np.delete(unscaled_inputs_all,indices_to_remove,axis=0)\n",
        " #it deletes an object along an axis\n",
        "targets_equal_prior=np.delete(targets_all,indices_to_remove,axis=0)"
      ],
      "execution_count": 0,
      "outputs": []
    },
    {
      "cell_type": "code",
      "metadata": {
        "id": "rB8Wi9Wg4MXo",
        "colab_type": "code",
        "colab": {}
      },
      "source": [
        "#scalling input\n",
        "scaled_inputs=preprocessing.scale(unscaled_inputs_equal_priors)"
      ],
      "execution_count": 0,
      "outputs": []
    },
    {
      "cell_type": "code",
      "metadata": {
        "id": "Ar-My7tO4ho5",
        "colab_type": "code",
        "colab": {}
      },
      "source": [
        "#shuffle data\n",
        "# taking indices from axis 0 and place them in a variable  \n",
        "shuffled_indices=np.arange(scaled_inputs.shape[0])\n",
        "np.random.shuffle(shuffled_indices)\n",
        "shuffled_inputs=scaled_inputs[shuffled_indices]\n",
        "shuffled_targets=targets_equal_prior[shuffled_indices]"
      ],
      "execution_count": 0,
      "outputs": []
    },
    {
      "cell_type": "code",
      "metadata": {
        "id": "Y8aAJ_Ez_9cX",
        "colab_type": "code",
        "colab": {
          "base_uri": "https://localhost:8080/",
          "height": 68
        },
        "outputId": "029c5fb6-55da-4df0-d7a5-f78700e8277d"
      },
      "source": [
        "#train,test,validation\n",
        "samples_count=shuffled_inputs.shape[0]\n",
        "train_samples_count=int(0.8*samples_count)\n",
        "validation_samples_count=int(0.1*samples_count)\n",
        "test_samples_count=samples_count-train_samples_count-validation_samples_count\n",
        "train_inputs = shuffled_inputs[:train_samples_count]\n",
        "train_targets = shuffled_targets[:train_samples_count]\n",
        "\n",
        "validation_inputs = shuffled_inputs[train_samples_count:train_samples_count+validation_samples_count]\n",
        "validation_targets = shuffled_targets[train_samples_count:train_samples_count+validation_samples_count]\n",
        "\n",
        "test_inputs = shuffled_inputs[train_samples_count+validation_samples_count:]\n",
        "test_targets = shuffled_targets[train_samples_count+validation_samples_count:]\n",
        "\n",
        "print(np.sum(train_targets), train_samples_count, np.sum(train_targets) / train_samples_count)\n",
        "print(np.sum(validation_targets), validation_samples_count, np.sum(validation_targets) / validation_samples_count)\n",
        "print(np.sum(test_targets), test_samples_count, np.sum(test_targets) / test_samples_count)"
      ],
      "execution_count": 9,
      "outputs": [
        {
          "output_type": "stream",
          "text": [
            "1765.0 3579 0.49315451243364067\n",
            "237.0 447 0.5302013422818792\n",
            "235.0 448 0.5245535714285714\n"
          ],
          "name": "stdout"
        }
      ]
    },
    {
      "cell_type": "code",
      "metadata": {
        "id": "OJ7ruSyu_77M",
        "colab_type": "code",
        "colab": {}
      },
      "source": [
        "#Save the three datasets in *.npz\n",
        "np.savez('Audiobooks_data_train', inputs=train_inputs, targets=train_targets)\n",
        "np.savez('Audiobooks_data_validation', inputs=validation_inputs, targets=validation_targets)\n",
        "np.savez('Audiobooks_data_test', inputs=test_inputs, targets=test_targets)"
      ],
      "execution_count": 0,
      "outputs": []
    },
    {
      "cell_type": "code",
      "metadata": {
        "id": "FQFlA1XVdv4E",
        "colab_type": "code",
        "colab": {}
      },
      "source": [
        "#creating ML algorithm\n",
        "#loading saved data\n",
        "npz=np.load('/content/Audiobooks_data_train.npz')\n",
        "train_inputs=npz['inputs'].astype(np.float)\n",
        "train_targets=npz['targets'].astype(np.int)\n",
        "\n",
        "npz=np.load('/content/Audiobooks_data_validation.npz')\n",
        "validation_inputs,validation_targets=npz['inputs'].astype(np.float),npz['targets'].astype(np.int)\n",
        "\n",
        "npz=np.load('/content/Audiobooks_data_test.npz')\n",
        "test_inputs,test_targets=npz['inputs'].astype(np.float),npz['targets'].astype(np.int)"
      ],
      "execution_count": 0,
      "outputs": []
    },
    {
      "cell_type": "code",
      "metadata": {
        "id": "1djlR_8hjC77",
        "colab_type": "code",
        "colab": {
          "base_uri": "https://localhost:8080/",
          "height": 748
        },
        "outputId": "54652f3f-2ca5-447f-eed5-0ec722d1de52"
      },
      "source": [
        "#Modelling\n",
        "input_size = 10\n",
        "output_size = 2\n",
        "hidden_layer_size = 50\n",
        "\n",
        "model = tf.keras.Sequential([\n",
        "                            tf.keras.layers.Dense(hidden_layer_size, activation='relu'),\n",
        "                            tf.keras.layers.Dense(hidden_layer_size, activation='relu'),\n",
        "                            tf.keras.layers.Dense(output_size, activation='softmax')   \n",
        "                            ])\n",
        "#optimizer & loss function\n",
        "model.compile(optimizer='adam', loss='sparse_categorical_crossentropy', metrics=['accuracy'])\n",
        "\n",
        "batch_size=100\n",
        "max_epochs=100\n",
        "early_stopping=tf.keras.callbacks.EarlyStopping(patience=2)\n",
        "model.fit(train_inputs,train_targets,\n",
        "          batch_size=batch_size,epochs=max_epochs,\n",
        "          callbacks=[early_stopping],\n",
        "          validation_data=(validation_inputs,validation_targets),verbose=2)"
      ],
      "execution_count": 14,
      "outputs": [
        {
          "output_type": "stream",
          "text": [
            "Epoch 1/100\n",
            "36/36 - 0s - loss: 0.5971 - accuracy: 0.6636 - val_loss: 0.5250 - val_accuracy: 0.7427\n",
            "Epoch 2/100\n",
            "36/36 - 0s - loss: 0.4797 - accuracy: 0.7541 - val_loss: 0.4579 - val_accuracy: 0.7450\n",
            "Epoch 3/100\n",
            "36/36 - 0s - loss: 0.4220 - accuracy: 0.7877 - val_loss: 0.4191 - val_accuracy: 0.7740\n",
            "Epoch 4/100\n",
            "36/36 - 0s - loss: 0.3927 - accuracy: 0.7966 - val_loss: 0.4015 - val_accuracy: 0.7785\n",
            "Epoch 5/100\n",
            "36/36 - 0s - loss: 0.3739 - accuracy: 0.8033 - val_loss: 0.3833 - val_accuracy: 0.7830\n",
            "Epoch 6/100\n",
            "36/36 - 0s - loss: 0.3643 - accuracy: 0.8036 - val_loss: 0.3703 - val_accuracy: 0.7987\n",
            "Epoch 7/100\n",
            "36/36 - 0s - loss: 0.3545 - accuracy: 0.8064 - val_loss: 0.3682 - val_accuracy: 0.7987\n",
            "Epoch 8/100\n",
            "36/36 - 0s - loss: 0.3510 - accuracy: 0.8080 - val_loss: 0.3593 - val_accuracy: 0.8031\n",
            "Epoch 9/100\n",
            "36/36 - 0s - loss: 0.3455 - accuracy: 0.8083 - val_loss: 0.3551 - val_accuracy: 0.8143\n",
            "Epoch 10/100\n",
            "36/36 - 0s - loss: 0.3404 - accuracy: 0.8175 - val_loss: 0.3509 - val_accuracy: 0.8098\n",
            "Epoch 11/100\n",
            "36/36 - 0s - loss: 0.3395 - accuracy: 0.8181 - val_loss: 0.3476 - val_accuracy: 0.8367\n",
            "Epoch 12/100\n",
            "36/36 - 0s - loss: 0.3398 - accuracy: 0.8142 - val_loss: 0.3450 - val_accuracy: 0.8188\n",
            "Epoch 13/100\n",
            "36/36 - 0s - loss: 0.3356 - accuracy: 0.8145 - val_loss: 0.3380 - val_accuracy: 0.8412\n",
            "Epoch 14/100\n",
            "36/36 - 0s - loss: 0.3332 - accuracy: 0.8198 - val_loss: 0.3434 - val_accuracy: 0.8121\n",
            "Epoch 15/100\n",
            "36/36 - 0s - loss: 0.3313 - accuracy: 0.8217 - val_loss: 0.3365 - val_accuracy: 0.8367\n",
            "Epoch 16/100\n",
            "36/36 - 0s - loss: 0.3276 - accuracy: 0.8240 - val_loss: 0.3384 - val_accuracy: 0.8098\n",
            "Epoch 17/100\n",
            "36/36 - 0s - loss: 0.3279 - accuracy: 0.8237 - val_loss: 0.3325 - val_accuracy: 0.8300\n",
            "Epoch 18/100\n",
            "36/36 - 0s - loss: 0.3277 - accuracy: 0.8201 - val_loss: 0.3339 - val_accuracy: 0.8121\n",
            "Epoch 19/100\n",
            "36/36 - 0s - loss: 0.3256 - accuracy: 0.8243 - val_loss: 0.3297 - val_accuracy: 0.8479\n",
            "Epoch 20/100\n",
            "36/36 - 0s - loss: 0.3242 - accuracy: 0.8265 - val_loss: 0.3376 - val_accuracy: 0.8054\n",
            "Epoch 21/100\n",
            "36/36 - 0s - loss: 0.3263 - accuracy: 0.8212 - val_loss: 0.3320 - val_accuracy: 0.8233\n"
          ],
          "name": "stdout"
        },
        {
          "output_type": "execute_result",
          "data": {
            "text/plain": [
              "<tensorflow.python.keras.callbacks.History at 0x7f84d057ff60>"
            ]
          },
          "metadata": {
            "tags": []
          },
          "execution_count": 14
        }
      ]
    },
    {
      "cell_type": "code",
      "metadata": {
        "id": "tzKNF2FGv0Lt",
        "colab_type": "code",
        "colab": {
          "base_uri": "https://localhost:8080/",
          "height": 34
        },
        "outputId": "c9f3cbf0-fd64-4275-b6ab-c74d6b973ba2"
      },
      "source": [
        "test_loss,test_accuracy=model.evaluate(test_inputs,test_targets)"
      ],
      "execution_count": 15,
      "outputs": [
        {
          "output_type": "stream",
          "text": [
            "14/14 [==============================] - 0s 2ms/step - loss: 0.3264 - accuracy: 0.8125\n"
          ],
          "name": "stdout"
        }
      ]
    }
  ]
}